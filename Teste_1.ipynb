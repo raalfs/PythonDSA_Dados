{
 "cells": [
  {
   "cell_type": "code",
   "execution_count": 1,
   "id": "4a757d67",
   "metadata": {
    "scrolled": true
   },
   "outputs": [
    {
     "name": "stdout",
     "output_type": "stream",
     "text": [
      "5\n"
     ]
    }
   ],
   "source": [
    "print( 2+ 3)"
   ]
  },
  {
   "cell_type": "code",
   "execution_count": 5,
   "id": "88950bab",
   "metadata": {},
   "outputs": [
    {
     "name": "stdout",
     "output_type": "stream",
     "text": [
      "Olá, mundo! Meu primeiro teste com Jupter Notebook\n"
     ]
    }
   ],
   "source": [
    "print('Olá, mundo! Meu primeiro teste com Jupter Notebook')"
   ]
  },
  {
   "cell_type": "code",
   "execution_count": 8,
   "id": "a2696458",
   "metadata": {
    "scrolled": true
   },
   "outputs": [
    {
     "name": "stdout",
     "output_type": "stream",
     "text": [
      "Não sei usar Python\n"
     ]
    }
   ],
   "source": [
    "x= 4\n",
    "y= 5\n",
    "print('Não sei usar Python')\n"
   ]
  },
  {
   "cell_type": "code",
   "execution_count": null,
   "id": "b00a65b9",
   "metadata": {},
   "outputs": [],
   "source": []
  }
 ],
 "metadata": {
  "kernelspec": {
   "display_name": "Python 3 (ipykernel)",
   "language": "python",
   "name": "python3"
  },
  "language_info": {
   "codemirror_mode": {
    "name": "ipython",
    "version": 3
   },
   "file_extension": ".py",
   "mimetype": "text/x-python",
   "name": "python",
   "nbconvert_exporter": "python",
   "pygments_lexer": "ipython3",
   "version": "3.9.13"
  }
 },
 "nbformat": 4,
 "nbformat_minor": 5
}
