{
 "cells": [
  {
   "cell_type": "code",
   "execution_count": 1,
   "id": "61c0b223",
   "metadata": {},
   "outputs": [],
   "source": [
    "#index de strings\n",
    "s= \"Data Science Academy\""
   ]
  },
  {
   "cell_type": "code",
   "execution_count": 2,
   "id": "5f5caf09",
   "metadata": {},
   "outputs": [
    {
     "name": "stdout",
     "output_type": "stream",
     "text": [
      "Data Science Academy\n"
     ]
    }
   ],
   "source": [
    "print(s)"
   ]
  },
  {
   "cell_type": "code",
   "execution_count": 3,
   "id": "88e2e543",
   "metadata": {},
   "outputs": [
    {
     "data": {
      "text/plain": [
       "'Data Science Academy'"
      ]
     },
     "execution_count": 3,
     "metadata": {},
     "output_type": "execute_result"
    }
   ],
   "source": [
    "s"
   ]
  },
  {
   "cell_type": "code",
   "execution_count": 5,
   "id": "914778e1",
   "metadata": {},
   "outputs": [
    {
     "data": {
      "text/plain": [
       "str"
      ]
     },
     "execution_count": 5,
     "metadata": {},
     "output_type": "execute_result"
    }
   ],
   "source": [
    "type(s)"
   ]
  },
  {
   "cell_type": "code",
   "execution_count": 7,
   "id": "aaae0dc2",
   "metadata": {},
   "outputs": [
    {
     "name": "stdout",
     "output_type": "stream",
     "text": [
      "D\n"
     ]
    }
   ],
   "source": [
    "print(s[0])"
   ]
  },
  {
   "cell_type": "code",
   "execution_count": 17,
   "id": "0e985c33",
   "metadata": {},
   "outputs": [
    {
     "name": "stdout",
     "output_type": "stream",
     "text": [
      "a\n"
     ]
    }
   ],
   "source": [
    "print(s[1])"
   ]
  },
  {
   "cell_type": "code",
   "execution_count": 18,
   "id": "1269348b",
   "metadata": {},
   "outputs": [
    {
     "name": "stdout",
     "output_type": "stream",
     "text": [
      "t\n"
     ]
    }
   ],
   "source": [
    "print(s[2])"
   ]
  },
  {
   "cell_type": "code",
   "execution_count": 19,
   "id": "0905104a",
   "metadata": {},
   "outputs": [
    {
     "name": "stdout",
     "output_type": "stream",
     "text": [
      "a\n"
     ]
    }
   ],
   "source": [
    "print(s[3])"
   ]
  },
  {
   "cell_type": "code",
   "execution_count": 25,
   "id": "7c30ba7e",
   "metadata": {},
   "outputs": [
    {
     "data": {
      "text/plain": [
       "'y'"
      ]
     },
     "execution_count": 25,
     "metadata": {},
     "output_type": "execute_result"
    }
   ],
   "source": [
    "s[-1]"
   ]
  },
  {
   "cell_type": "code",
   "execution_count": 26,
   "id": "b77d774e",
   "metadata": {},
   "outputs": [
    {
     "name": "stdout",
     "output_type": "stream",
     "text": [
      "y\n"
     ]
    }
   ],
   "source": [
    "print(s[-1])"
   ]
  },
  {
   "cell_type": "code",
   "execution_count": 27,
   "id": "f2e5ecd2",
   "metadata": {},
   "outputs": [
    {
     "name": "stdout",
     "output_type": "stream",
     "text": [
      "m\n"
     ]
    }
   ],
   "source": [
    "print(s[-2])"
   ]
  },
  {
   "cell_type": "code",
   "execution_count": 28,
   "id": "743cbbd8",
   "metadata": {},
   "outputs": [
    {
     "name": "stdout",
     "output_type": "stream",
     "text": [
      "e\n"
     ]
    }
   ],
   "source": [
    "print(s[-3])"
   ]
  },
  {
   "cell_type": "code",
   "execution_count": 29,
   "id": "3a06c4d0",
   "metadata": {},
   "outputs": [
    {
     "name": "stdout",
     "output_type": "stream",
     "text": [
      "d\n"
     ]
    }
   ],
   "source": [
    "print(s[-4])"
   ]
  },
  {
   "cell_type": "code",
   "execution_count": 30,
   "id": "b2ffa707",
   "metadata": {},
   "outputs": [
    {
     "name": "stdout",
     "output_type": "stream",
     "text": [
      "a\n"
     ]
    }
   ],
   "source": [
    "print(s[-5])"
   ]
  },
  {
   "cell_type": "code",
   "execution_count": 31,
   "id": "f9a94ddf",
   "metadata": {},
   "outputs": [
    {
     "name": "stdout",
     "output_type": "stream",
     "text": [
      "ata \n"
     ]
    }
   ],
   "source": [
    "print(s[1:5])"
   ]
  },
  {
   "cell_type": "code",
   "execution_count": 32,
   "id": "bd9638ec",
   "metadata": {},
   "outputs": [
    {
     "data": {
      "text/plain": [
       "'ata '"
      ]
     },
     "execution_count": 32,
     "metadata": {},
     "output_type": "execute_result"
    }
   ],
   "source": [
    "s[1:5]"
   ]
  },
  {
   "cell_type": "code",
   "execution_count": 34,
   "id": "4d0020bb",
   "metadata": {},
   "outputs": [
    {
     "name": "stdout",
     "output_type": "stream",
     "text": [
      "Data\n"
     ]
    }
   ],
   "source": [
    "print(s[:4])"
   ]
  },
  {
   "cell_type": "code",
   "execution_count": 35,
   "id": "e9f4377d",
   "metadata": {},
   "outputs": [
    {
     "data": {
      "text/plain": [
       "'Data'"
      ]
     },
     "execution_count": 35,
     "metadata": {},
     "output_type": "execute_result"
    }
   ],
   "source": [
    "s[:4]"
   ]
  },
  {
   "cell_type": "code",
   "execution_count": 36,
   "id": "04e20825",
   "metadata": {},
   "outputs": [
    {
     "name": "stdout",
     "output_type": "stream",
     "text": [
      " Science Academy\n"
     ]
    }
   ],
   "source": [
    "print(s[4:])"
   ]
  },
  {
   "cell_type": "code",
   "execution_count": 41,
   "id": "7f56e3f2",
   "metadata": {},
   "outputs": [
    {
     "name": "stdout",
     "output_type": "stream",
     "text": [
      "Academ\n"
     ]
    }
   ],
   "source": [
    "print(s[-7:-1])"
   ]
  },
  {
   "cell_type": "code",
   "execution_count": 161,
   "id": "7115b856",
   "metadata": {},
   "outputs": [],
   "source": [
    "#Cria lista vazia\n",
    "lista_1= []"
   ]
  },
  {
   "cell_type": "code",
   "execution_count": 162,
   "id": "e53cc73c",
   "metadata": {},
   "outputs": [
    {
     "name": "stdout",
     "output_type": "stream",
     "text": [
      "[]\n"
     ]
    }
   ],
   "source": [
    "print(lista_1)"
   ]
  },
  {
   "cell_type": "code",
   "execution_count": 163,
   "id": "cc42cd3d",
   "metadata": {},
   "outputs": [],
   "source": [
    "#Cria lista com elementos\n",
    "lista_1= [\"arroz, feijão, tomate\"]"
   ]
  },
  {
   "cell_type": "code",
   "execution_count": 164,
   "id": "0cfaad10",
   "metadata": {},
   "outputs": [],
   "source": [
    "lista_2= [\"arroz\", \"feijão\", \"tomate\"]"
   ]
  },
  {
   "cell_type": "code",
   "execution_count": 165,
   "id": "80b3b0a7",
   "metadata": {},
   "outputs": [
    {
     "data": {
      "text/plain": [
       "False"
      ]
     },
     "execution_count": 165,
     "metadata": {},
     "output_type": "execute_result"
    }
   ],
   "source": [
    "lista_1 == lista_2\n"
   ]
  },
  {
   "cell_type": "code",
   "execution_count": 166,
   "id": "beaca2fb",
   "metadata": {},
   "outputs": [
    {
     "name": "stdout",
     "output_type": "stream",
     "text": [
      "arroz, feijão, tomate\n"
     ]
    }
   ],
   "source": [
    "print(lista_1[0])"
   ]
  },
  {
   "cell_type": "code",
   "execution_count": 167,
   "id": "178bc53f",
   "metadata": {
    "scrolled": true
   },
   "outputs": [
    {
     "name": "stdout",
     "output_type": "stream",
     "text": [
      "arroz, feijão, tomate\n"
     ]
    }
   ],
   "source": [
    "print(lista_1[0])"
   ]
  },
  {
   "cell_type": "code",
   "execution_count": 73,
   "id": "d006369c",
   "metadata": {},
   "outputs": [
    {
     "name": "stdout",
     "output_type": "stream",
     "text": [
      "feijão\n"
     ]
    }
   ],
   "source": [
    "print(lista_2[1])"
   ]
  },
  {
   "cell_type": "code",
   "execution_count": 46,
   "id": "ebcd62bc",
   "metadata": {},
   "outputs": [
    {
     "name": "stdout",
     "output_type": "stream",
     "text": [
      "arroz\n"
     ]
    }
   ],
   "source": [
    "print(lista_2[0])"
   ]
  },
  {
   "cell_type": "code",
   "execution_count": 74,
   "id": "7563b43d",
   "metadata": {},
   "outputs": [
    {
     "name": "stdout",
     "output_type": "stream",
     "text": [
      "TOMATE\n"
     ]
    }
   ],
   "source": [
    "print(lista_2[2])"
   ]
  },
  {
   "cell_type": "code",
   "execution_count": 168,
   "id": "f15d7f74",
   "metadata": {},
   "outputs": [],
   "source": [
    "lista_2.append('Laranja')"
   ]
  },
  {
   "cell_type": "code",
   "execution_count": 169,
   "id": "f7790e85",
   "metadata": {},
   "outputs": [
    {
     "data": {
      "text/plain": [
       "list"
      ]
     },
     "execution_count": 169,
     "metadata": {},
     "output_type": "execute_result"
    }
   ],
   "source": [
    "type(lista_1)"
   ]
  },
  {
   "cell_type": "code",
   "execution_count": 170,
   "id": "f88da489",
   "metadata": {},
   "outputs": [
    {
     "data": {
      "text/plain": [
       "list"
      ]
     },
     "execution_count": 170,
     "metadata": {},
     "output_type": "execute_result"
    }
   ],
   "source": [
    "type(lista_2)"
   ]
  },
  {
   "cell_type": "code",
   "execution_count": 171,
   "id": "6ca26ce7",
   "metadata": {},
   "outputs": [
    {
     "data": {
      "text/plain": [
       "'TOMATE'"
      ]
     },
     "execution_count": 171,
     "metadata": {},
     "output_type": "execute_result"
    }
   ],
   "source": [
    "lista_2[2].upper()"
   ]
  },
  {
   "cell_type": "code",
   "execution_count": 180,
   "id": "7168432f",
   "metadata": {},
   "outputs": [
    {
     "data": {
      "text/plain": [
       "'LARANJA'"
      ]
     },
     "execution_count": 180,
     "metadata": {},
     "output_type": "execute_result"
    }
   ],
   "source": [
    "lista_2[3].upper()"
   ]
  },
  {
   "cell_type": "code",
   "execution_count": 182,
   "id": "012b4580",
   "metadata": {},
   "outputs": [
    {
     "name": "stdout",
     "output_type": "stream",
     "text": [
      "['arroz', 'feijão', 'TOMATE', 'Laranja']\n"
     ]
    }
   ],
   "source": [
    "print(lista_2)"
   ]
  },
  {
   "cell_type": "code",
   "execution_count": 183,
   "id": "c26fb8f6",
   "metadata": {},
   "outputs": [],
   "source": [
    "lista_2[2] = lista_2[2].upper()"
   ]
  },
  {
   "cell_type": "code",
   "execution_count": 184,
   "id": "74fd6551",
   "metadata": {},
   "outputs": [
    {
     "data": {
      "text/plain": [
       "['arroz', 'feijão', 'TOMATE', 'Laranja']"
      ]
     },
     "execution_count": 184,
     "metadata": {},
     "output_type": "execute_result"
    }
   ],
   "source": [
    "lista_2"
   ]
  },
  {
   "cell_type": "code",
   "execution_count": 175,
   "id": "bd11e74f",
   "metadata": {},
   "outputs": [
    {
     "name": "stdout",
     "output_type": "stream",
     "text": [
      "['arroz', 'feijão', 'TOMATE', 'Laranja']\n"
     ]
    }
   ],
   "source": [
    "print(lista_2)"
   ]
  },
  {
   "cell_type": "code",
   "execution_count": 1,
   "id": "984cb3b1",
   "metadata": {},
   "outputs": [],
   "source": [
    "lista_3 = [12, 'arroz', 134.5]"
   ]
  },
  {
   "cell_type": "code",
   "execution_count": 2,
   "id": "7f50934e",
   "metadata": {},
   "outputs": [
    {
     "data": {
      "text/plain": [
       "list"
      ]
     },
     "execution_count": 2,
     "metadata": {},
     "output_type": "execute_result"
    }
   ],
   "source": [
    "type(lista_3)"
   ]
  },
  {
   "cell_type": "code",
   "execution_count": 3,
   "id": "bac24edf",
   "metadata": {},
   "outputs": [
    {
     "data": {
      "text/plain": [
       "12"
      ]
     },
     "execution_count": 3,
     "metadata": {},
     "output_type": "execute_result"
    }
   ],
   "source": [
    "lista_3[0]"
   ]
  },
  {
   "cell_type": "code",
   "execution_count": 4,
   "id": "9c4881a3",
   "metadata": {},
   "outputs": [
    {
     "name": "stdout",
     "output_type": "stream",
     "text": [
      "12\n"
     ]
    }
   ],
   "source": [
    "print(lista_3[0])"
   ]
  },
  {
   "cell_type": "code",
   "execution_count": 6,
   "id": "fd2f96e4",
   "metadata": {},
   "outputs": [
    {
     "data": {
      "text/plain": [
       "'arroz'"
      ]
     },
     "execution_count": 6,
     "metadata": {},
     "output_type": "execute_result"
    }
   ],
   "source": [
    "lista_3[1]"
   ]
  },
  {
   "cell_type": "code",
   "execution_count": 7,
   "id": "321921ae",
   "metadata": {},
   "outputs": [
    {
     "name": "stdout",
     "output_type": "stream",
     "text": [
      "arroz\n"
     ]
    }
   ],
   "source": [
    "print(lista_3[1])"
   ]
  },
  {
   "cell_type": "code",
   "execution_count": 8,
   "id": "7344a631",
   "metadata": {},
   "outputs": [
    {
     "name": "stdout",
     "output_type": "stream",
     "text": [
      "[12, 'arroz', 134.5]\n"
     ]
    }
   ],
   "source": [
    "print(lista_3)"
   ]
  },
  {
   "cell_type": "code",
   "execution_count": 9,
   "id": "48b24fa0",
   "metadata": {},
   "outputs": [
    {
     "data": {
      "text/plain": [
       "float"
      ]
     },
     "execution_count": 9,
     "metadata": {},
     "output_type": "execute_result"
    }
   ],
   "source": [
    "type(lista_3[2])"
   ]
  },
  {
   "cell_type": "code",
   "execution_count": 10,
   "id": "52f81ad0",
   "metadata": {},
   "outputs": [
    {
     "data": {
      "text/plain": [
       "str"
      ]
     },
     "execution_count": 10,
     "metadata": {},
     "output_type": "execute_result"
    }
   ],
   "source": [
    "type(lista_3[1])"
   ]
  },
  {
   "cell_type": "code",
   "execution_count": 11,
   "id": "ce815a14",
   "metadata": {},
   "outputs": [
    {
     "data": {
      "text/plain": [
       "int"
      ]
     },
     "execution_count": 11,
     "metadata": {},
     "output_type": "execute_result"
    }
   ],
   "source": [
    "type(lista_3[0])"
   ]
  },
  {
   "cell_type": "code",
   "execution_count": 13,
   "id": "db9a74ab",
   "metadata": {},
   "outputs": [],
   "source": [
    "item= lista_3[0]"
   ]
  },
  {
   "cell_type": "code",
   "execution_count": 14,
   "id": "1a534988",
   "metadata": {},
   "outputs": [
    {
     "name": "stdout",
     "output_type": "stream",
     "text": [
      "12\n"
     ]
    }
   ],
   "source": [
    "print(item)"
   ]
  },
  {
   "cell_type": "code",
   "execution_count": 15,
   "id": "3de0ddee",
   "metadata": {},
   "outputs": [],
   "source": [
    "lista_3[0] = item - 10"
   ]
  },
  {
   "cell_type": "code",
   "execution_count": 16,
   "id": "ab72de39",
   "metadata": {},
   "outputs": [
    {
     "name": "stdout",
     "output_type": "stream",
     "text": [
      "[2, 'arroz', 134.5]\n"
     ]
    }
   ],
   "source": [
    "print(lista_3)"
   ]
  },
  {
   "cell_type": "code",
   "execution_count": 20,
   "id": "ad8443f8",
   "metadata": {},
   "outputs": [
    {
     "name": "stdout",
     "output_type": "stream",
     "text": [
      "[2, 'arroz', 134.5]\n"
     ]
    }
   ],
   "source": [
    "print(lista_3[:3])"
   ]
  },
  {
   "cell_type": "code",
   "execution_count": null,
   "id": "47c6b03c",
   "metadata": {},
   "outputs": [],
   "source": []
  },
  {
   "cell_type": "markdown",
   "id": "cfb4f4c6",
   "metadata": {},
   "source": [
    "LISTA ANINHADA (LISTA DE LISTAS)"
   ]
  },
  {
   "cell_type": "code",
   "execution_count": 24,
   "id": "6aed3023",
   "metadata": {},
   "outputs": [],
   "source": [
    "lista_4= [[1 , 2, 3, 4, 5], [1, 3, 5, 7, 11], [2, 4, 6, 8, 10]]"
   ]
  },
  {
   "cell_type": "code",
   "execution_count": 25,
   "id": "df7d3851",
   "metadata": {},
   "outputs": [
    {
     "name": "stdout",
     "output_type": "stream",
     "text": [
      "[1, 2, 3, 4, 5]\n"
     ]
    }
   ],
   "source": [
    "print(lista_4[0])"
   ]
  },
  {
   "cell_type": "code",
   "execution_count": 26,
   "id": "28e0f273",
   "metadata": {},
   "outputs": [
    {
     "name": "stdout",
     "output_type": "stream",
     "text": [
      "1\n"
     ]
    }
   ],
   "source": [
    "print(lista_4[0][0])"
   ]
  },
  {
   "cell_type": "code",
   "execution_count": 27,
   "id": "f8faaa81",
   "metadata": {},
   "outputs": [
    {
     "name": "stdout",
     "output_type": "stream",
     "text": [
      "5\n"
     ]
    }
   ],
   "source": [
    "print(lista_4[0][4])"
   ]
  },
  {
   "cell_type": "code",
   "execution_count": 29,
   "id": "390a3270",
   "metadata": {},
   "outputs": [
    {
     "data": {
      "text/plain": [
       "11"
      ]
     },
     "execution_count": 29,
     "metadata": {},
     "output_type": "execute_result"
    }
   ],
   "source": [
    "lista_4[1][4]"
   ]
  },
  {
   "cell_type": "code",
   "execution_count": 30,
   "id": "d8a820aa",
   "metadata": {},
   "outputs": [
    {
     "data": {
      "text/plain": [
       "10"
      ]
     },
     "execution_count": 30,
     "metadata": {},
     "output_type": "execute_result"
    }
   ],
   "source": [
    "lista_4[2][4]"
   ]
  },
  {
   "cell_type": "code",
   "execution_count": 31,
   "id": "a7050cb8",
   "metadata": {},
   "outputs": [],
   "source": [
    "lista_4[1][2]= 'AMO'"
   ]
  },
  {
   "cell_type": "code",
   "execution_count": 32,
   "id": "e21d8b8d",
   "metadata": {},
   "outputs": [
    {
     "name": "stdout",
     "output_type": "stream",
     "text": [
      "[[1, 2, 3, 4, 5], [1, 3, 'AMO', 7, 11], [2, 4, 6, 8, 10]]\n"
     ]
    }
   ],
   "source": [
    "print(lista_4)"
   ]
  },
  {
   "cell_type": "code",
   "execution_count": 33,
   "id": "26c57033",
   "metadata": {},
   "outputs": [],
   "source": [
    "del lista_4[0][4]"
   ]
  },
  {
   "cell_type": "code",
   "execution_count": 34,
   "id": "1a71123f",
   "metadata": {},
   "outputs": [],
   "source": [
    "del lista_4[1][4]"
   ]
  },
  {
   "cell_type": "code",
   "execution_count": 36,
   "id": "1d13c76c",
   "metadata": {},
   "outputs": [],
   "source": [
    "del lista_4[2][4]"
   ]
  },
  {
   "cell_type": "code",
   "execution_count": 37,
   "id": "a77e9d24",
   "metadata": {},
   "outputs": [
    {
     "name": "stdout",
     "output_type": "stream",
     "text": [
      "[[1, 2, 3, 4], [1, 3, 'AMO', 7], [2, 4, 6, 8]]\n"
     ]
    }
   ],
   "source": [
    "print(lista_4)"
   ]
  },
  {
   "cell_type": "code",
   "execution_count": 38,
   "id": "9e410ba9",
   "metadata": {},
   "outputs": [
    {
     "data": {
      "text/plain": [
       "[2, 'arroz', 134.5, [1, 2, 3, 4], [1, 3, 'AMO', 7], [2, 4, 6, 8]]"
      ]
     },
     "execution_count": 38,
     "metadata": {},
     "output_type": "execute_result"
    }
   ],
   "source": [
    "lista_3 + lista_4"
   ]
  },
  {
   "cell_type": "code",
   "execution_count": 39,
   "id": "e41b15a8",
   "metadata": {},
   "outputs": [],
   "source": [
    "l1= lista_3 + lista_4"
   ]
  },
  {
   "cell_type": "code",
   "execution_count": 40,
   "id": "3dd766aa",
   "metadata": {},
   "outputs": [
    {
     "name": "stdout",
     "output_type": "stream",
     "text": [
      "[2, 'arroz', 134.5, [1, 2, 3, 4], [1, 3, 'AMO', 7], [2, 4, 6, 8]]\n"
     ]
    }
   ],
   "source": [
    "print(l1)"
   ]
  },
  {
   "cell_type": "code",
   "execution_count": 41,
   "id": "8d6a0bd6",
   "metadata": {},
   "outputs": [
    {
     "name": "stdout",
     "output_type": "stream",
     "text": [
      "2\n"
     ]
    }
   ],
   "source": [
    "print(l1[0])"
   ]
  },
  {
   "cell_type": "code",
   "execution_count": 42,
   "id": "5ff0782f",
   "metadata": {},
   "outputs": [
    {
     "name": "stdout",
     "output_type": "stream",
     "text": [
      "arroz\n"
     ]
    }
   ],
   "source": [
    "print(l1[1])"
   ]
  },
  {
   "cell_type": "code",
   "execution_count": 43,
   "id": "72019c2f",
   "metadata": {},
   "outputs": [
    {
     "name": "stdout",
     "output_type": "stream",
     "text": [
      "134.5\n"
     ]
    }
   ],
   "source": [
    "print(l1[2])"
   ]
  },
  {
   "cell_type": "code",
   "execution_count": 44,
   "id": "624b4026",
   "metadata": {},
   "outputs": [
    {
     "name": "stdout",
     "output_type": "stream",
     "text": [
      "[1, 2, 3, 4]\n"
     ]
    }
   ],
   "source": [
    "print(l1[3])"
   ]
  },
  {
   "cell_type": "code",
   "execution_count": 46,
   "id": "aa8308f9",
   "metadata": {},
   "outputs": [
    {
     "data": {
      "text/plain": [
       "list"
      ]
     },
     "execution_count": 46,
     "metadata": {},
     "output_type": "execute_result"
    }
   ],
   "source": [
    "type(l1)"
   ]
  },
  {
   "cell_type": "code",
   "execution_count": 47,
   "id": "99cb0b63",
   "metadata": {},
   "outputs": [
    {
     "data": {
      "text/plain": [
       "int"
      ]
     },
     "execution_count": 47,
     "metadata": {},
     "output_type": "execute_result"
    }
   ],
   "source": [
    "type(l1[0])"
   ]
  },
  {
   "cell_type": "code",
   "execution_count": 63,
   "id": "c7f73dd1",
   "metadata": {},
   "outputs": [
    {
     "name": "stdout",
     "output_type": "stream",
     "text": [
      "A lista no primeiro elemento é do tipo: <class 'int'>\n",
      "A lista no segundo elemento é do tipo: <class 'str'>\n",
      "A lista no terceiro elemento é do tipo: <class 'float'>\n",
      "A lista no quarto elemento é do tipo: <class 'list'>\n",
      "A lista no quinto elemento é do tipo: <class 'list'>\n"
     ]
    }
   ],
   "source": [
    "print('A lista no primeiro elemento é do tipo:',type(l1[0]))\n",
    "print('A lista no segundo elemento é do tipo:',type(l1[1]))\n",
    "print('A lista no terceiro elemento é do tipo:',type(l1[2]))\n",
    "print('A lista no quarto elemento é do tipo:',type(l1[3]))\n",
    "print('A lista no quinto elemento é do tipo:',type(l1[4]))\n"
   ]
  },
  {
   "cell_type": "code",
   "execution_count": 64,
   "id": "e19947dc",
   "metadata": {},
   "outputs": [
    {
     "name": "stdout",
     "output_type": "stream",
     "text": [
      "[2, 'arroz', 134.5, [1, 2, 3, 4], [1, 3, 'AMO', 7], [2, 4, 6, 8]]\n"
     ]
    }
   ],
   "source": [
    "print(l1)"
   ]
  },
  {
   "cell_type": "code",
   "execution_count": 65,
   "id": "d44d6e23",
   "metadata": {},
   "outputs": [
    {
     "name": "stdout",
     "output_type": "stream",
     "text": [
      "False\n"
     ]
    }
   ],
   "source": [
    "print( 10 in l1)"
   ]
  },
  {
   "cell_type": "code",
   "execution_count": 66,
   "id": "b4e8f972",
   "metadata": {},
   "outputs": [
    {
     "name": "stdout",
     "output_type": "stream",
     "text": [
      "False\n"
     ]
    }
   ],
   "source": [
    "print(1 in l1)"
   ]
  },
  {
   "cell_type": "code",
   "execution_count": 67,
   "id": "b1f18b4b",
   "metadata": {},
   "outputs": [
    {
     "name": "stdout",
     "output_type": "stream",
     "text": [
      "True\n"
     ]
    }
   ],
   "source": [
    "print(1 in l1[3])"
   ]
  },
  {
   "cell_type": "code",
   "execution_count": 68,
   "id": "9827f89e",
   "metadata": {},
   "outputs": [
    {
     "name": "stdout",
     "output_type": "stream",
     "text": [
      "True\n"
     ]
    }
   ],
   "source": [
    "print(1 in l1[4])"
   ]
  },
  {
   "cell_type": "code",
   "execution_count": 69,
   "id": "6da02517",
   "metadata": {},
   "outputs": [
    {
     "data": {
      "text/plain": [
       "6"
      ]
     },
     "execution_count": 69,
     "metadata": {},
     "output_type": "execute_result"
    }
   ],
   "source": [
    "#Verfica o comprimento da lista len(), elementos\n",
    "len(l1)"
   ]
  },
  {
   "cell_type": "code",
   "execution_count": 80,
   "id": "ccb941b9",
   "metadata": {},
   "outputs": [],
   "source": [
    "#Verifica o maior valor da lista max()\n",
    "#Não tem suporte para str \n",
    "#Não tem suporte para lista de lista\n",
    "\n",
    "#l1[1]= 10\n",
    "#l1[4][2] = 204\n",
    "#print(l1)\n",
    "#max(l1)\n",
    "#Alterar a lista para apenas números"
   ]
  },
  {
   "cell_type": "code",
   "execution_count": 100,
   "id": "14e7e4d3",
   "metadata": {},
   "outputs": [],
   "source": [
    "#Remove o elemento em questão, pode remover elemento único ou lista inteira\n",
    "del l1"
   ]
  },
  {
   "cell_type": "code",
   "execution_count": 101,
   "id": "b948d2f8",
   "metadata": {},
   "outputs": [],
   "source": [
    "l1 = [23, 455, 7, 43, 86, 87, 8, 0,]"
   ]
  },
  {
   "cell_type": "code",
   "execution_count": 102,
   "id": "214769ca",
   "metadata": {},
   "outputs": [
    {
     "data": {
      "text/plain": [
       "8"
      ]
     },
     "execution_count": 102,
     "metadata": {},
     "output_type": "execute_result"
    }
   ],
   "source": [
    "#O numero dele elementos na lista\n",
    "len(l1)"
   ]
  },
  {
   "cell_type": "code",
   "execution_count": 103,
   "id": "19a99761",
   "metadata": {},
   "outputs": [
    {
     "data": {
      "text/plain": [
       "455"
      ]
     },
     "execution_count": 103,
     "metadata": {},
     "output_type": "execute_result"
    }
   ],
   "source": [
    "#Retorna o maior elemento da lista\n",
    "max(l1)"
   ]
  },
  {
   "cell_type": "code",
   "execution_count": 104,
   "id": "b93469de",
   "metadata": {},
   "outputs": [
    {
     "data": {
      "text/plain": [
       "0"
      ]
     },
     "execution_count": 104,
     "metadata": {},
     "output_type": "execute_result"
    }
   ],
   "source": [
    "#Retorna o menor elemento da lista\n",
    "min(l1)"
   ]
  },
  {
   "cell_type": "code",
   "execution_count": 108,
   "id": "cf6d0a17",
   "metadata": {},
   "outputs": [],
   "source": [
    "#Adiciona um elemento ao final da lista (sem verificação de repetição)\n",
    "l1.append(12)"
   ]
  },
  {
   "cell_type": "code",
   "execution_count": 109,
   "id": "f178b197",
   "metadata": {},
   "outputs": [
    {
     "name": "stdout",
     "output_type": "stream",
     "text": [
      "[23, 455, 7, 43, 86, 87, 8, 0, 12, 12]\n"
     ]
    }
   ],
   "source": [
    "print(l1)"
   ]
  },
  {
   "cell_type": "code",
   "execution_count": 114,
   "id": "47ca768e",
   "metadata": {},
   "outputs": [
    {
     "data": {
      "text/plain": [
       "2"
      ]
     },
     "execution_count": 114,
     "metadata": {},
     "output_type": "execute_result"
    }
   ],
   "source": [
    "#Contador para repetições de um elemento\n",
    "l1.count(12)"
   ]
  },
  {
   "cell_type": "code",
   "execution_count": 115,
   "id": "c9a83541",
   "metadata": {},
   "outputs": [
    {
     "data": {
      "text/plain": [
       "10"
      ]
     },
     "execution_count": 115,
     "metadata": {},
     "output_type": "execute_result"
    }
   ],
   "source": [
    "len(l1)"
   ]
  },
  {
   "cell_type": "code",
   "execution_count": 117,
   "id": "b6697345",
   "metadata": {},
   "outputs": [],
   "source": [
    "del l1[9]"
   ]
  },
  {
   "cell_type": "code",
   "execution_count": 118,
   "id": "f554a153",
   "metadata": {},
   "outputs": [
    {
     "name": "stdout",
     "output_type": "stream",
     "text": [
      "[23, 455, 7, 43, 86, 87, 8, 0, 12]\n"
     ]
    }
   ],
   "source": [
    "print(l1)"
   ]
  },
  {
   "cell_type": "code",
   "execution_count": 121,
   "id": "46709533",
   "metadata": {},
   "outputs": [],
   "source": [
    "new_l1= []"
   ]
  },
  {
   "cell_type": "code",
   "execution_count": 125,
   "id": "00209537",
   "metadata": {},
   "outputs": [],
   "source": [
    "#Copia itens de outra lista\n",
    "#for item in l1:\n",
    "#    new_l1.append(item)\n",
    "#print(new_l1)"
   ]
  },
  {
   "cell_type": "code",
   "execution_count": 134,
   "id": "6e19bef0",
   "metadata": {},
   "outputs": [
    {
     "name": "stdout",
     "output_type": "stream",
     "text": [
      "['São Paulo', 'Mato Grosso do Sul', 'Paraná']\n"
     ]
    }
   ],
   "source": [
    "lista_estados= ['São Paulo', 'Mato Grosso do Sul', 'Paraná']\n",
    "print(lista_estados)"
   ]
  },
  {
   "cell_type": "code",
   "execution_count": 136,
   "id": "0556dfd1",
   "metadata": {},
   "outputs": [],
   "source": [
    "lista_estados.extend(['Rio de Janeiro', 'Santa Catarina'])"
   ]
  },
  {
   "cell_type": "code",
   "execution_count": 137,
   "id": "a6a98b59",
   "metadata": {},
   "outputs": [
    {
     "name": "stdout",
     "output_type": "stream",
     "text": [
      "['São Paulo', 'Mato Grosso do Sul', 'Paraná', 'Rio de Janeiro', 'Santa Catarina']\n"
     ]
    }
   ],
   "source": [
    "print(lista_estados)"
   ]
  },
  {
   "cell_type": "code",
   "execution_count": 140,
   "id": "009a0d42",
   "metadata": {},
   "outputs": [],
   "source": [
    "lista_estados.append(['Bahia', 'Pernambuco'])\n"
   ]
  },
  {
   "cell_type": "code",
   "execution_count": 147,
   "id": "017a0f31",
   "metadata": {},
   "outputs": [
    {
     "data": {
      "text/plain": [
       "7"
      ]
     },
     "execution_count": 147,
     "metadata": {},
     "output_type": "execute_result"
    }
   ],
   "source": [
    "len(lista_estados)"
   ]
  },
  {
   "cell_type": "code",
   "execution_count": 148,
   "id": "ee05f6d2",
   "metadata": {},
   "outputs": [
    {
     "data": {
      "text/plain": [
       "2"
      ]
     },
     "execution_count": 148,
     "metadata": {},
     "output_type": "execute_result"
    }
   ],
   "source": [
    "lista_estados.count(['Bahia','Pernambuco'])"
   ]
  },
  {
   "cell_type": "code",
   "execution_count": 149,
   "id": "25c75ed1",
   "metadata": {},
   "outputs": [
    {
     "name": "stdout",
     "output_type": "stream",
     "text": [
      "['São Paulo', 'Mato Grosso do Sul', 'Paraná', 'Rio de Janeiro', 'Santa Catarina', ['Bahia', 'Pernambuco'], ['Bahia', 'Pernambuco']]\n"
     ]
    }
   ],
   "source": [
    "print(lista_estados)"
   ]
  },
  {
   "cell_type": "code",
   "execution_count": 150,
   "id": "dc2bad4a",
   "metadata": {},
   "outputs": [],
   "source": [
    "#.del remove um item por um index específico\n",
    "del lista_estados[6]"
   ]
  },
  {
   "cell_type": "code",
   "execution_count": 151,
   "id": "4dce7ea0",
   "metadata": {},
   "outputs": [
    {
     "data": {
      "text/plain": [
       "['São Paulo',\n",
       " 'Mato Grosso do Sul',\n",
       " 'Paraná',\n",
       " 'Rio de Janeiro',\n",
       " 'Santa Catarina',\n",
       " ['Bahia', 'Pernambuco']]"
      ]
     },
     "execution_count": 151,
     "metadata": {},
     "output_type": "execute_result"
    }
   ],
   "source": [
    "lista_estados"
   ]
  },
  {
   "cell_type": "code",
   "execution_count": 152,
   "id": "40f66ff0",
   "metadata": {},
   "outputs": [
    {
     "data": {
      "text/plain": [
       "1"
      ]
     },
     "execution_count": 152,
     "metadata": {},
     "output_type": "execute_result"
    }
   ],
   "source": [
    "#Retornar o index, posição de um elemento\n",
    "lista_estados.index('Mato Grosso do Sul')"
   ]
  },
  {
   "cell_type": "code",
   "execution_count": 187,
   "id": "6c9b0bf8",
   "metadata": {},
   "outputs": [
    {
     "data": {
      "text/plain": [
       "5"
      ]
     },
     "execution_count": 187,
     "metadata": {},
     "output_type": "execute_result"
    }
   ],
   "source": [
    "lista_estados.index([\"Bahia\", \"Pernambuco\"])"
   ]
  },
  {
   "cell_type": "code",
   "execution_count": 190,
   "id": "62c2c14b",
   "metadata": {},
   "outputs": [
    {
     "ename": "IndexError",
     "evalue": "list assignment index out of range",
     "output_type": "error",
     "traceback": [
      "\u001b[1;31m---------------------------------------------------------------------------\u001b[0m",
      "\u001b[1;31mIndexError\u001b[0m                                Traceback (most recent call last)",
      "\u001b[1;32m~\\AppData\\Local\\Temp\\ipykernel_2644\\3053011643.py\u001b[0m in \u001b[0;36m<module>\u001b[1;34m\u001b[0m\n\u001b[1;32m----> 1\u001b[1;33m \u001b[1;32mdel\u001b[0m \u001b[0mlista_estados\u001b[0m\u001b[1;33m[\u001b[0m\u001b[1;36m5\u001b[0m\u001b[1;33m]\u001b[0m\u001b[1;33m\u001b[0m\u001b[1;33m\u001b[0m\u001b[0m\n\u001b[0m",
      "\u001b[1;31mIndexError\u001b[0m: list assignment index out of range"
     ]
    }
   ],
   "source": [
    "#.del remove um item por um index específico\n",
    "del lista_estados[5]\n"
   ]
  },
  {
   "cell_type": "code",
   "execution_count": 191,
   "id": "2bc3ee70",
   "metadata": {},
   "outputs": [
    {
     "data": {
      "text/plain": [
       "['São Paulo',\n",
       " 'Mato Grosso do Sul',\n",
       " 'Paraná',\n",
       " 'Rio de Janeiro',\n",
       " 'Santa Catarina']"
      ]
     },
     "execution_count": 191,
     "metadata": {},
     "output_type": "execute_result"
    }
   ],
   "source": [
    "lista_estados"
   ]
  },
  {
   "cell_type": "code",
   "execution_count": 194,
   "id": "92cf3bbe",
   "metadata": {},
   "outputs": [],
   "source": [
    "lista_estados.extend([\"Bahia\", \"Belém\"])"
   ]
  },
  {
   "cell_type": "code",
   "execution_count": 195,
   "id": "dc9de09f",
   "metadata": {},
   "outputs": [
    {
     "name": "stdout",
     "output_type": "stream",
     "text": [
      "['São Paulo', 'Mato Grosso do Sul', 'Paraná', 'Rio de Janeiro', 'Santa Catarina', 'Bahia', 'Belém', 'Bahia', 'Belém']\n"
     ]
    }
   ],
   "source": [
    "print(lista_estados)"
   ]
  },
  {
   "cell_type": "code",
   "execution_count": 196,
   "id": "0c63ef64",
   "metadata": {},
   "outputs": [
    {
     "data": {
      "text/plain": [
       "9"
      ]
     },
     "execution_count": 196,
     "metadata": {},
     "output_type": "execute_result"
    }
   ],
   "source": [
    "len(lista_estados)"
   ]
  },
  {
   "cell_type": "code",
   "execution_count": 197,
   "id": "9a0f2c1c",
   "metadata": {},
   "outputs": [],
   "source": [
    "#.del remove um item por um index específico\n",
    "del lista_estados[8], lista_estados[7]"
   ]
  },
  {
   "cell_type": "code",
   "execution_count": 198,
   "id": "f516b2d5",
   "metadata": {},
   "outputs": [
    {
     "data": {
      "text/plain": [
       "['São Paulo',\n",
       " 'Mato Grosso do Sul',\n",
       " 'Paraná',\n",
       " 'Rio de Janeiro',\n",
       " 'Santa Catarina',\n",
       " 'Bahia',\n",
       " 'Belém']"
      ]
     },
     "execution_count": 198,
     "metadata": {},
     "output_type": "execute_result"
    }
   ],
   "source": [
    "lista_estados"
   ]
  },
  {
   "cell_type": "code",
   "execution_count": 199,
   "id": "6d8d1b5c",
   "metadata": {},
   "outputs": [],
   "source": [
    "#Usando a função insert() para inserir um elemento em determinada posição e realocando a fila\n",
    "lista_estados.insert(2, 110)"
   ]
  },
  {
   "cell_type": "code",
   "execution_count": 200,
   "id": "4425fe9a",
   "metadata": {},
   "outputs": [
    {
     "name": "stdout",
     "output_type": "stream",
     "text": [
      "['São Paulo', 'Mato Grosso do Sul', 110, 'Paraná', 'Rio de Janeiro', 'Santa Catarina', 'Bahia', 'Belém']\n"
     ]
    }
   ],
   "source": [
    "print(lista_estados)"
   ]
  },
  {
   "cell_type": "code",
   "execution_count": 201,
   "id": "5a34c23b",
   "metadata": {},
   "outputs": [],
   "source": [
    "#.remove remove o primeiro match com o valor, não um index específico\n",
    "lista_estados.remove(110)"
   ]
  },
  {
   "cell_type": "code",
   "execution_count": 202,
   "id": "73f10941",
   "metadata": {},
   "outputs": [
    {
     "name": "stdout",
     "output_type": "stream",
     "text": [
      "['São Paulo', 'Mato Grosso do Sul', 'Paraná', 'Rio de Janeiro', 'Santa Catarina', 'Bahia', 'Belém']\n"
     ]
    }
   ],
   "source": [
    "print(lista_estados)"
   ]
  },
  {
   "cell_type": "code",
   "execution_count": 203,
   "id": "cdb13f0c",
   "metadata": {},
   "outputs": [],
   "source": [
    "#Reverter a lista com a função reverse()\n",
    "lista_estados.reverse()"
   ]
  },
  {
   "cell_type": "code",
   "execution_count": 204,
   "id": "ad7b60fc",
   "metadata": {},
   "outputs": [
    {
     "data": {
      "text/plain": [
       "['Belém',\n",
       " 'Bahia',\n",
       " 'Santa Catarina',\n",
       " 'Rio de Janeiro',\n",
       " 'Paraná',\n",
       " 'Mato Grosso do Sul',\n",
       " 'São Paulo']"
      ]
     },
     "execution_count": 204,
     "metadata": {},
     "output_type": "execute_result"
    }
   ],
   "source": [
    "lista_estados"
   ]
  },
  {
   "cell_type": "code",
   "execution_count": 205,
   "id": "827b73fe",
   "metadata": {},
   "outputs": [],
   "source": [
    "lista_estados.reverse()"
   ]
  },
  {
   "cell_type": "code",
   "execution_count": 206,
   "id": "62c28a8e",
   "metadata": {},
   "outputs": [
    {
     "name": "stdout",
     "output_type": "stream",
     "text": [
      "['Bahia', 'Belém', 'Mato Grosso do Sul', 'Paraná', 'Rio de Janeiro', 'Santa Catarina', 'São Paulo']\n"
     ]
    }
   ],
   "source": [
    "#A função sort() pode ordenar uma lista, ordem alfabética, crescente,\n",
    "lista_estados.sort()\n",
    "print(lista_estados)"
   ]
  },
  {
   "cell_type": "code",
   "execution_count": 208,
   "id": "8289e6c7",
   "metadata": {},
   "outputs": [
    {
     "data": {
      "text/plain": [
       "['Bahia',\n",
       " 'Belém',\n",
       " 'Mato Grosso do Sul',\n",
       " 'Paraná',\n",
       " 'Rio de Janeiro',\n",
       " 'Santa Catarina',\n",
       " 'São Paulo']"
      ]
     },
     "execution_count": 208,
     "metadata": {},
     "output_type": "execute_result"
    }
   ],
   "source": [
    "lista_estados"
   ]
  },
  {
   "cell_type": "code",
   "execution_count": null,
   "id": "6280896b",
   "metadata": {},
   "outputs": [],
   "source": []
  }
 ],
 "metadata": {
  "kernelspec": {
   "display_name": "Python 3 (ipykernel)",
   "language": "python",
   "name": "python3"
  },
  "language_info": {
   "codemirror_mode": {
    "name": "ipython",
    "version": 3
   },
   "file_extension": ".py",
   "mimetype": "text/x-python",
   "name": "python",
   "nbconvert_exporter": "python",
   "pygments_lexer": "ipython3",
   "version": "3.9.13"
  }
 },
 "nbformat": 4,
 "nbformat_minor": 5
}
