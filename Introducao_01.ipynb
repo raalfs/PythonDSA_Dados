{
 "cells": [
  {
   "cell_type": "markdown",
   "id": "6db3bee5",
   "metadata": {},
   "source": [
    "Introdução à lógica de programação\n"
   ]
  },
  {
   "cell_type": "code",
   "execution_count": 2,
   "id": "2c47561b",
   "metadata": {},
   "outputs": [
    {
     "name": "stdout",
     "output_type": "stream",
     "text": [
      "Versão da Linguagem Python usada neste Jupyter Notebook 3.9.13\n"
     ]
    }
   ],
   "source": [
    "#Comentarios na linguagem Python são com o \"hashtag\"\n",
    "from platform import python_version\n",
    "print(\"Versão da Linguagem Python usada neste Jupyter Notebook\" , python_version())"
   ]
  },
  {
   "cell_type": "markdown",
   "id": "aba0054b",
   "metadata": {},
   "source": [
    "Pseudo código para calcular a area de um paralelograma, lembrando que um paralelograma é um quadrlátero com lados opostos paralelos( e portanto angulos iguais) Um quadrilátero com todos os lados iguais é chamado de losango, um paralelogramo de angulos iguais é dito retângulo e de lados iguais, um quadrado.\n"
   ]
  },
  {
   "cell_type": "code",
   "execution_count": null,
   "id": "4c572b0f",
   "metadata": {},
   "outputs": [],
   "source": [
    "# O que seria necessario para calcular essa área? \n",
    "# Necessario variaveis para armazenar as dimensões do pararalelograma\n",
    "# Conhecer como é calculada a area para as figuras\n",
    "# Armazendar o resultado do calculo\n",
    "# Imprimir o resultado\n",
    "# Como ficaria um possivel codigo de programa?\n"
   ]
  },
  {
   "cell_type": "code",
   "execution_count": 4,
   "id": "90ebbbf6",
   "metadata": {},
   "outputs": [
    {
     "name": "stdout",
     "output_type": "stream",
     "text": [
      "Olá, você está na parte de cálculo de área do paralelograma\n"
     ]
    }
   ],
   "source": [
    "#iniciar o programa indicando onde o usuario está\n",
    "print('Olá, você está na parte de cálculo de área do paralelograma')\n"
   ]
  },
  {
   "cell_type": "code",
   "execution_count": 6,
   "id": "78a93258",
   "metadata": {},
   "outputs": [
    {
     "name": "stdout",
     "output_type": "stream",
     "text": [
      "O cálculo da área do paralelogramo é feito da forma base x altura, preciso que indique os valores abaixo\n"
     ]
    }
   ],
   "source": [
    "#indicar como o cálculo é feito\n",
    "print('O cálculo da área do paralelogramo é feito da forma base x altura, preciso que indique os valores abaixo')\n"
   ]
  },
  {
   "cell_type": "code",
   "execution_count": 15,
   "id": "a41a6f34",
   "metadata": {},
   "outputs": [
    {
     "name": "stdout",
     "output_type": "stream",
     "text": [
      "Insira o valor da base em cm, seu valor pode conter casas decimais\n",
      "Use ponto para separar as casas decimais\n",
      "54.60\n"
     ]
    }
   ],
   "source": [
    "#Armazenar o valor da base\n",
    "print('Insira o valor da base em cm, seu valor pode conter casas decimais')\n",
    "print('Use ponto para separar as casas decimais')\n",
    "base= float(input())"
   ]
  },
  {
   "cell_type": "code",
   "execution_count": 16,
   "id": "5466de0f",
   "metadata": {},
   "outputs": [
    {
     "name": "stdout",
     "output_type": "stream",
     "text": [
      "Insira o valor da altura em cm, seu valor pode conter casas decimais\n",
      "Use ponto para separar as casas decimais\n",
      "45.70\n"
     ]
    }
   ],
   "source": [
    "#Armazenar o valor da altura\n",
    "print('Insira o valor da altura em cm, seu valor pode conter casas decimais')\n",
    "print('Use ponto para separar as casas decimais')\n",
    "altura= float(input())"
   ]
  },
  {
   "cell_type": "code",
   "execution_count": 25,
   "id": "8487ac4d",
   "metadata": {},
   "outputs": [
    {
     "name": "stdout",
     "output_type": "stream",
     "text": [
      "O valor da área é:  2495.2200000000003\n"
     ]
    }
   ],
   "source": [
    "#Realizar o calculo da area, base x altura\n",
    "area = base* altura\n",
    "print('O valor da área é: ', area)"
   ]
  },
  {
   "cell_type": "markdown",
   "id": "5e9b8c89",
   "metadata": {},
   "source": [
    "A ideia agora é programar uma calculadora simples, com as 4 operações basicas,\n",
    "como ficaria o pseudo código e sua versão de programa em Python\n"
   ]
  },
  {
   "cell_type": "code",
   "execution_count": 28,
   "id": "119a8117",
   "metadata": {},
   "outputs": [
    {
     "name": "stdout",
     "output_type": "stream",
     "text": [
      "Olá, você está na calculadora, onde é possivel somar, subtrair, multipilcar e dividir números\n"
     ]
    }
   ],
   "source": [
    "#Inicializar o programa calculadora com as possiveis opçoes de operacoes\n",
    "#Armazenar os numeros que serão usados \n",
    "#indicar que cada operação funciona de uma forma\n",
    "#Reconhecer qual operacao será feita\n",
    "#Calcular o resultado da operação \n",
    "#Mostrar o resultado\n",
    "print('Olá, você está na calculadora, onde é possivel somar, subtrair, multipilcar e dividir números')\n"
   ]
  },
  {
   "cell_type": "code",
   "execution_count": 44,
   "id": "e07d7abc",
   "metadata": {},
   "outputs": [
    {
     "name": "stdout",
     "output_type": "stream",
     "text": [
      "Insina o primeiro numero da operacao\n",
      "5\n",
      "Insina o segundo numero da operacao\n",
      "0\n"
     ]
    }
   ],
   "source": [
    "#Armazenar os valores da operacao do usuario\n",
    "print('Insina o primeiro numero da operacao')\n",
    "num1 = float(input())\n",
    "print('Insina o segundo numero da operacao')\n",
    "num2 = float(input())"
   ]
  },
  {
   "cell_type": "code",
   "execution_count": 51,
   "id": "3bf3410f",
   "metadata": {},
   "outputs": [
    {
     "name": "stdout",
     "output_type": "stream",
     "text": [
      "Selecione e insira uma operação, sendo elas:( +, -, /, * )\n",
      "t\n"
     ]
    }
   ],
   "source": [
    "#identificar a operação a ser realizada\n",
    "print('Selecione e insira uma operação, sendo elas:( +, -, /, * )')\n",
    "operacao = input()"
   ]
  },
  {
   "cell_type": "code",
   "execution_count": 52,
   "id": "a99db082",
   "metadata": {},
   "outputs": [
    {
     "name": "stdout",
     "output_type": "stream",
     "text": [
      "Operação inválida\n"
     ]
    }
   ],
   "source": [
    "if operacao == \"+\" :\n",
    "    resultado= num1 + num2\n",
    "    print('O resultado é: ', resultado)\n",
    "\n",
    "elif operacao == \"-\":\n",
    "    resultado= num1 - num2\n",
    "    print('O resultado é:', resultado)\n",
    "    \n",
    "elif operacao == \"*\":\n",
    "    resultado= num1 * num2\n",
    "    print('O resultado é:', resultado)\n",
    "    \n",
    "elif operacao == \"/\":\n",
    "    if num2 != 0:\n",
    "        resultado= num1 / num2\n",
    "        print('O resultado é:', resultado)   \n",
    "    print('Não é possivel realizar divisao por 0')\n",
    "\n",
    "else:\n",
    "    print('Operação inválida')"
   ]
  },
  {
   "cell_type": "code",
   "execution_count": null,
   "id": "12164b8b",
   "metadata": {},
   "outputs": [],
   "source": []
  }
 ],
 "metadata": {
  "kernelspec": {
   "display_name": "Python 3 (ipykernel)",
   "language": "python",
   "name": "python3"
  },
  "language_info": {
   "codemirror_mode": {
    "name": "ipython",
    "version": 3
   },
   "file_extension": ".py",
   "mimetype": "text/x-python",
   "name": "python",
   "nbconvert_exporter": "python",
   "pygments_lexer": "ipython3",
   "version": "3.9.13"
  }
 },
 "nbformat": 4,
 "nbformat_minor": 5
}
